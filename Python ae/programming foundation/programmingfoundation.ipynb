{
 "cells": [
  {
   "cell_type": "code",
   "execution_count": 13,
   "metadata": {},
   "outputs": [],
   "source": [
    "import os\n",
    "def list_file(path):\n",
    "    if os.path.isdir(path):\n",
    "        print(f' +{path}')\n",
    "        files = os.listdir(path)\n",
    "        for f in files:\n",
    "            list_file(path, f)\n",
    "    else:\n",
    "        print(f' - {path}')\n",
    "\n",
    "path = input('dbt')\n",
    "list_file(path)"
   ]
  },
  {
   "cell_type": "code",
   "execution_count": 2,
   "metadata": {},
   "outputs": [
    {
     "name": "stdout",
     "output_type": "stream",
     "text": [
      "[0|0] [0|1] [0|2] [0|3] [0|4] [0|5] [0|6] \n",
      "[1|1] [1|2] [1|3] [1|4] [1|5] [1|6] \n",
      "[2|2] [2|3] [2|4] [2|5] [2|6] \n",
      "[3|3] [3|4] [3|5] [3|6] \n",
      "[4|4] [4|5] [4|6] \n",
      "[5|5] [5|6] \n",
      "[6|6] \n"
     ]
    }
   ],
   "source": [
    "for left in range(7):\n",
    "    for right in range(left, 7):\n",
    "        print(\"[\" + str(left) + \"|\" + str(right) + \"]\", end = \" \")\n",
    "    print()"
   ]
  },
  {
   "cell_type": "code",
   "execution_count": null,
   "metadata": {},
   "outputs": [],
   "source": [
    "from tkinter import *\n",
    "\n",
    "window = Tk()\n",
    "window.geometry('256x144')\n",
    "window.title('Demo Checkboxes')\n",
    "\n",
    "def calculate_payment():\n",
    "    payment = 0\n",
    "    if nordic_selected.get() == True:\n",
    "        payment += 200\n",
    "    if celtic_selected.get() == True:\n",
    "        payment += 150\n",
    "    lblPayment.configure(text='Payment: $' + str(payment))\n",
    "\n",
    "def chkNordic_clicked():\n",
    "    calculate_payment()\n",
    "\n",
    "def chkCeltic_clicked():\n",
    "    calculate_payment()\n",
    "\n",
    "lblLanguages = Label(window, text='Select Language Courses')\n",
    "lblLanguages.grid(column=0, row=0)\n",
    "\n",
    "nordic_selected = BooleanVar()\n",
    "nordic_selected.set(False)\n",
    "chkNordic = Checkbutton(window, text=\"English [$200]\", var=nordic_selected, command=chkNordic_clicked)\n",
    "chkNordic.grid(column=0, row=1)\n",
    "\n",
    "celtic_selected = BooleanVar()\n",
    "celtic_selected.set(False)\n",
    "chkCeltic = Checkbutton(window, text=\"Japanese [$150]\", var=celtic_selected, command=chkCeltic_clicked)\n",
    "chkCeltic.grid(column=0, row=2)\n",
    "\n",
    "lblStudentType = Label(window, text='Select Student Type')\n",
    "lblStudentType.grid(column=0, row=3)\n",
    "\n",
    "student_type = IntVar()\n",
    "student_type.set(0)\n",
    "\n",
    "radNewStudent = Radiobutton(window, text='New Student', variable=student_type, value=0)\n",
    "radNewStudent.grid(column=0, row=4)\n",
    "\n",
    "radOldStudent = Radiobutton(window, text='Old Student[-10%]', variable=student_type, value=1)\n",
    "radOldStudent.grid(column=0, row=5)\n",
    "\n",
    "lblPayment = Label(window, text='Payment: $0')\n",
    "lblPayment.grid(column=0, row=6)\n",
    "\n",
    "window.mainloop()"
   ]
  }
 ],
 "metadata": {
  "kernelspec": {
   "display_name": "Python 3.10.7 64-bit",
   "language": "python",
   "name": "python3"
  },
  "language_info": {
   "codemirror_mode": {
    "name": "ipython",
    "version": 3
   },
   "file_extension": ".py",
   "mimetype": "text/x-python",
   "name": "python",
   "nbconvert_exporter": "python",
   "pygments_lexer": "ipython3",
   "version": "3.10.7"
  },
  "orig_nbformat": 4,
  "vscode": {
   "interpreter": {
    "hash": "26de051ba29f2982a8de78e945f0abaf191376122a1563185a90213a26c5da77"
   }
  }
 },
 "nbformat": 4,
 "nbformat_minor": 2
}
